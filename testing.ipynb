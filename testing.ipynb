{
  "cells": [
    {
      "cell_type": "code",
      "execution_count": 5,
      "metadata": {
        "colab": {
          "base_uri": "https://localhost:8080/"
        },
        "id": "hhFsy3v0zoJa",
        "outputId": "2a397c9d-1fad-4b48-f700-0e5bd7e6dc07"
      },
      "outputs": [
        {
          "output_type": "stream",
          "name": "stdout",
          "text": [
            "Archive:  /content/framwork.zip\n",
            "   creating: framwork/\n",
            "   creating: framwork/.ipynb_checkpoints/\n",
            "  inflating: framwork/ablationcam.py  \n",
            "  inflating: framwork/basecam.py     \n",
            "  inflating: framwork/eigencam.py    \n",
            "  inflating: framwork/gradcam.py     \n",
            "  inflating: framwork/gradcamelementwise.py  \n",
            " extracting: framwork/gradcamelmentwise  \n",
            "  inflating: framwork/gradcamplusplus.py  \n",
            "  inflating: framwork/hirescam.py    \n",
            "  inflating: framwork/layercam.py    \n",
            "  inflating: framwork/respondcam.py  \n",
            "  inflating: framwork/scorecam.py    \n",
            "  inflating: framwork/smoothgradcamplusplus.py  \n",
            "  inflating: framwork/xgradcam.py    \n",
            "   creating: framwork/__pycache__/\n",
            "  inflating: framwork/__pycache__/ablationcam.cpython-310.pyc  \n",
            "  inflating: framwork/__pycache__/basecam.cpython-310.pyc  \n",
            "  inflating: framwork/__pycache__/eigencam.cpython-310.pyc  \n",
            "  inflating: framwork/__pycache__/gradcam.cpython-310.pyc  \n",
            "  inflating: framwork/__pycache__/gradcamelementwise.cpython-310.pyc  \n",
            "  inflating: framwork/__pycache__/hirescam.cpython-310.pyc  \n",
            "  inflating: framwork/__pycache__/layercam.cpython-310.pyc  \n",
            "  inflating: framwork/__pycache__/respondcam.cpython-310.pyc  \n",
            "  inflating: framwork/__pycache__/scorcecam.cpython-310.pyc  \n",
            "  inflating: framwork/__pycache__/scorecam.cpython-310.pyc  \n",
            "  inflating: framwork/__pycache__/xgradcam.cpython-310.pyc  \n"
          ]
        }
      ],
      "source": [
        "!unzip /content/framwork.zip"
      ]
    },
    {
      "cell_type": "code",
      "execution_count": 1,
      "metadata": {
        "colab": {
          "base_uri": "https://localhost:8080/"
        },
        "id": "R0K9lkfgzuMd",
        "outputId": "e061df22-3981-4abc-d849-fe5d005fd563"
      },
      "outputs": [
        {
          "output_type": "stream",
          "name": "stdout",
          "text": [
            "  adding: content/visioncam/ (stored 0%)\n",
            "  adding: content/visioncam/ablationcam.py (deflated 73%)\n",
            "  adding: content/visioncam/.ipynb_checkpoints/ (stored 0%)\n",
            "  adding: content/visioncam/respondcam.py (deflated 60%)\n",
            "  adding: content/visioncam/gradcam.py (deflated 58%)\n",
            "  adding: content/visioncam/gradcamelementwise.py (deflated 58%)\n",
            "  adding: content/visioncam/smoothgradcamplusplus.py (deflated 66%)\n",
            "  adding: content/visioncam/gradcamplusplus.py (deflated 66%)\n",
            "  adding: content/visioncam/__pycache__/ (stored 0%)\n",
            "  adding: content/visioncam/__pycache__/hirescam.cpython-310.pyc (deflated 38%)\n",
            "  adding: content/visioncam/__pycache__/ablationcam.cpython-310.pyc (deflated 45%)\n",
            "  adding: content/visioncam/__pycache__/basecam.cpython-310.pyc (deflated 44%)\n",
            "  adding: content/visioncam/__pycache__/base.cpython-310.pyc (deflated 42%)\n",
            "  adding: content/visioncam/__pycache__/scorecam.cpython-310.pyc (deflated 43%)\n",
            "  adding: content/visioncam/__pycache__/xgradcam.cpython-310.pyc (deflated 39%)\n",
            "  adding: content/visioncam/__pycache__/respondcam.cpython-310.pyc (deflated 38%)\n",
            "  adding: content/visioncam/__pycache__/scorcecam.cpython-310.pyc (deflated 43%)\n",
            "  adding: content/visioncam/__pycache__/gradcam.cpython-310.pyc (deflated 37%)\n",
            "  adding: content/visioncam/__pycache__/gradcamelementwise.cpython-310.pyc (deflated 40%)\n",
            "  adding: content/visioncam/__pycache__/layercam.cpython-310.pyc (deflated 38%)\n",
            "  adding: content/visioncam/__pycache__/eigencam.cpython-310.pyc (deflated 40%)\n",
            "  adding: content/visioncam/hirescam.py (deflated 58%)\n",
            "  adding: content/visioncam/xgradcam.py (deflated 59%)\n",
            "  adding: content/visioncam/base.py (deflated 65%)\n",
            "  adding: content/visioncam/scorecam.py (deflated 67%)\n"
          ]
        }
      ],
      "source": [
        "!zip -r /content/visioncam.zip /content/visioncam"
      ]
    },
    {
      "cell_type": "code",
      "source": [],
      "metadata": {
        "id": "xICt85RnO7tF"
      },
      "execution_count": 1,
      "outputs": []
    },
    {
      "cell_type": "code",
      "execution_count": 33,
      "metadata": {
        "colab": {
          "base_uri": "https://localhost:8080/"
        },
        "id": "fHbnc3RnqTrV",
        "outputId": "2ff66fae-bf7a-47e9-a617-030bd85d2b6a"
      },
      "outputs": [
        {
          "output_type": "stream",
          "name": "stdout",
          "text": [
            "1/1 [==============================] - 1s 1s/step\n"
          ]
        }
      ],
      "source": [
        "from visioncam.ablationcam import AblationCAM\n",
        "\n",
        "from tensorflow.keras.applications import ResNet50, imagenet_utils\n",
        "from keras.applications import Xception\n",
        "import tensorflow as tf\n",
        "import numpy as np\n",
        "\n",
        "\n",
        "class_index = {'tiger_cat': 282, 'beagle': 162 ,'african_elephant' : 386 , 'bird' : 10}\n",
        "\n",
        "model = Xception(weights=\"imagenet\")\n",
        "\n",
        "image = AblationCAM.get_img_array(img_path = '/content/bird.png',target_size = (299,299,3) )\n",
        "\n",
        "preds = model.predict(image)\n",
        "class_idx = np.argmax(preds[0])\n",
        "\n",
        "#grad_cam = XgradCAM(model , class_index['bird'] )\n",
        "\n",
        "last_conv_l_name = \"block14_sepconv2_act\"\n",
        "classifier_l_names = [\n",
        "    \"avg_pool\",\n",
        "    \"predictions\",\n",
        "]\n",
        "\n",
        "grad_cam = AblationCAM(model,last_conv_layer_name = last_conv_l_name, classifier_layer_names = classifier_l_names )\n"
      ]
    },
    {
      "cell_type": "code",
      "execution_count": null,
      "metadata": {
        "colab": {
          "base_uri": "https://localhost:8080/"
        },
        "id": "taxOFrJOFrUp",
        "outputId": "40d65dbf-bd29-479e-c244-9efdfa6f277c"
      },
      "outputs": [
        {
          "output_type": "stream",
          "name": "stdout",
          "text": [
            "1/1 [==============================] - 1s 540ms/step\n",
            "1/1 [==============================] - 2s 2s/step\n",
            "1/1 [==============================] - 0s 435ms/step\n",
            "1/1 [==============================] - 0s 321ms/step\n",
            "1/1 [==============================] - 0s 316ms/step\n",
            "1/1 [==============================] - 0s 323ms/step\n",
            "1/1 [==============================] - 0s 318ms/step\n",
            "1/1 [==============================] - 0s 330ms/step\n",
            "1/1 [==============================] - 0s 311ms/step\n",
            "1/1 [==============================] - 0s 306ms/step\n",
            "1/1 [==============================] - 0s 319ms/step\n",
            "1/1 [==============================] - 0s 311ms/step\n",
            "1/1 [==============================] - 0s 333ms/step\n",
            "1/1 [==============================] - 0s 318ms/step\n",
            "1/1 [==============================] - 0s 340ms/step\n",
            "1/1 [==============================] - 0s 319ms/step\n",
            "1/1 [==============================] - 0s 306ms/step\n",
            "1/1 [==============================] - 0s 319ms/step\n",
            "1/1 [==============================] - 0s 305ms/step\n",
            "1/1 [==============================] - 0s 313ms/step\n",
            "1/1 [==============================] - 0s 327ms/step\n",
            "1/1 [==============================] - 0s 307ms/step\n",
            "1/1 [==============================] - 0s 308ms/step\n",
            "1/1 [==============================] - 0s 313ms/step\n",
            "1/1 [==============================] - 0s 436ms/step\n",
            "1/1 [==============================] - 1s 542ms/step\n",
            "1/1 [==============================] - 1s 527ms/step\n",
            "1/1 [==============================] - 1s 563ms/step\n",
            "1/1 [==============================] - 0s 447ms/step\n",
            "1/1 [==============================] - 0s 317ms/step\n",
            "1/1 [==============================] - 0s 311ms/step\n",
            "1/1 [==============================] - 0s 311ms/step\n",
            "1/1 [==============================] - 0s 328ms/step\n",
            "1/1 [==============================] - 0s 314ms/step\n",
            "1/1 [==============================] - 0s 329ms/step\n",
            "1/1 [==============================] - 0s 307ms/step\n",
            "1/1 [==============================] - 0s 356ms/step\n",
            "1/1 [==============================] - 1s 693ms/step\n",
            "1/1 [==============================] - 1s 698ms/step\n",
            "1/1 [==============================] - 1s 685ms/step\n",
            "1/1 [==============================] - 1s 716ms/step\n",
            "1/1 [==============================] - 1s 581ms/step\n",
            "1/1 [==============================] - 2s 2s/step\n",
            "1/1 [==============================] - 1s 950ms/step\n",
            "1/1 [==============================] - 1s 1s/step\n",
            "1/1 [==============================] - 1s 1s/step\n",
            "1/1 [==============================] - 1s 905ms/step\n",
            "1/1 [==============================] - 1s 580ms/step\n",
            "1/1 [==============================] - 1s 728ms/step\n",
            "1/1 [==============================] - 1s 985ms/step\n",
            "1/1 [==============================] - ETA: 0s"
          ]
        }
      ],
      "source": [
        "import keras\n",
        "preprocess_input = keras.applications.xception.preprocess_input\n",
        "img_array = preprocess_input(image)\n",
        "grad_heatmap = grad_cam.compute_cam_features(img_array)"
      ]
    },
    {
      "cell_type": "code",
      "source": [
        "import matplotlib.pyplot as plt\n",
        "plt.imshow(grad_heatmap)"
      ],
      "metadata": {
        "id": "LSzZ8-Fe1ygq"
      },
      "execution_count": null,
      "outputs": []
    },
    {
      "cell_type": "code",
      "execution_count": 32,
      "metadata": {
        "colab": {
          "base_uri": "https://localhost:8080/",
          "height": 211
        },
        "id": "en0bagrkeJDN",
        "outputId": "4d7dc44f-617e-4982-ef93-ca8e992d650c"
      },
      "outputs": [
        {
          "output_type": "display_data",
          "data": {
            "image/jpeg": "[encoded data removed]",
            "text/plain": [
              "<IPython.core.display.Image object>"
            ]
          },
          "metadata": {}
        }
      ],
      "source": [
        "AblationCAM.save_and_display_gradcam('/content/bird.png', grad_heatmap)"
      ]
    }
  ],
  "metadata": {
    "accelerator": "GPU",
    "colab": {
      "gpuType": "T4",
      "provenance": []
    },
    "kernelspec": {
      "display_name": "Python 3",
      "name": "python3"
    },
    "language_info": {
      "name": "python"
    }
  },
  "nbformat": 4,
  "nbformat_minor": 0
}